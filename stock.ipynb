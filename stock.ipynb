{
 "cells": [
  {
   "cell_type": "code",
   "execution_count": 5,
   "metadata": {
    "collapsed": true,
    "ExecuteTime": {
     "end_time": "2024-02-14T19:42:24.972520300Z",
     "start_time": "2024-02-14T19:42:24.965940100Z"
    }
   },
   "outputs": [],
   "source": [
    "import yfinance as yf\n",
    "\n",
    "from datetime import timedelta, datetime\n",
    "from dateutil.relativedelta import relativedelta"
   ]
  },
  {
   "cell_type": "code",
   "execution_count": 6,
   "outputs": [],
   "source": [
    "# Functions\n",
    "def get_start_date(input_str):\n",
    "    \"\"\"\n",
    "    Find the start date by subtracting the given time range from \"yesterday\"\n",
    "    :param input_str: string that represents time range: <num><y/m/d>\n",
    "                      Example: 2y-2 years from yesterday;\n",
    "                               2d-2 days from yesterday.\n",
    "    :return: the start date calculated in datetime\n",
    "    \"\"\"\n",
    "    unit = input_str[-1]  # Get the last character (y, m, d)\n",
    "    quantity = int(input_str[:-1])  # Get the quantity as integer\n",
    "\n",
    "    # Subtract the quantity of the specified unit from today's date\n",
    "    if unit == 'y':\n",
    "        return datetime.now() - relativedelta(years=quantity)\n",
    "    elif unit == 'm':\n",
    "        return datetime.now() - relativedelta(months=quantity)\n",
    "    elif unit == 'd':\n",
    "        return datetime.now() - relativedelta(days=quantity)\n",
    "    else:\n",
    "        raise ValueError(\"Invalid time unit. Use 'y' for years, 'm' for months, and 'd' for days.\")"
   ],
   "metadata": {
    "collapsed": false,
    "ExecuteTime": {
     "end_time": "2024-02-14T19:42:24.974535900Z",
     "start_time": "2024-02-14T19:42:24.970513200Z"
    }
   }
  },
  {
   "cell_type": "code",
   "execution_count": 7,
   "outputs": [],
   "source": [
    "# Define the date range\n",
    "date_range = '5y'\n",
    "\n",
    "start_date = get_start_date(date_range)\n",
    "end_date = datetime.now() - timedelta(days=1)\n",
    "\n",
    "start_date_str = start_date.strftime('%Y-%m-%d')\n",
    "end_date_str = end_date.strftime('%Y-%m-%d')"
   ],
   "metadata": {
    "collapsed": false,
    "ExecuteTime": {
     "end_time": "2024-02-14T19:42:24.987238600Z",
     "start_time": "2024-02-14T19:42:24.976525500Z"
    }
   }
  },
  {
   "cell_type": "code",
   "execution_count": null,
   "outputs": [],
   "source": [
    "# Define the ticker symbol.\n",
    "tickerSymbol = 'NET'\n",
    "\n",
    "# Get the data of the ticker.\n",
    "tickerData = yf.Ticker(tickerSymbol)"
   ],
   "metadata": {
    "collapsed": false
   }
  }
 ],
 "metadata": {
  "kernelspec": {
   "display_name": "Python 3",
   "language": "python",
   "name": "python3"
  },
  "language_info": {
   "codemirror_mode": {
    "name": "ipython",
    "version": 2
   },
   "file_extension": ".py",
   "mimetype": "text/x-python",
   "name": "python",
   "nbconvert_exporter": "python",
   "pygments_lexer": "ipython2",
   "version": "2.7.6"
  }
 },
 "nbformat": 4,
 "nbformat_minor": 0
}
